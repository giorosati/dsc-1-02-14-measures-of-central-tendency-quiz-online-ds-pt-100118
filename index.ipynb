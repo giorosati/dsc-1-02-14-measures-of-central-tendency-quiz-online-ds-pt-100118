{
 "cells": [
  {
   "cell_type": "markdown",
   "metadata": {},
   "source": [
    "# Measures of Central Tendency - Quiz\n",
    "\n",
    "## Objectives\n",
    "You will be able to:\n",
    "* Understand and describe the significance of measuring central tendency of continuous data\n",
    "* Understand the formula and intuition behind the mean, median, mode and modal class\n",
    "* Compare mean-median-mode, along with histograms to explain the central tendency of given data"
   ]
  },
  {
   "cell_type": "markdown",
   "metadata": {},
   "source": [
    "**Note, for these exercises, you do not need to write code to answer them - we'll do that later. Just do them by hand or with a calculator to make sure you're comfortable with the process of calculating the answers!**\n",
    "\n",
    "### Exercise 1\n",
    "Calculate the mean, median and mode for this data set: \n",
    "```\n",
    "19, 18, 21, 16, 15, 17, 20, 18\n",
    "```\n",
    "While comparing the results of three measures, comment about this distribution. "
   ]
  },
  {
   "cell_type": "code",
   "execution_count": 2,
   "metadata": {},
   "outputs": [
    {
     "data": {
      "text/plain": [
       "18.0"
      ]
     },
     "execution_count": 2,
     "metadata": {},
     "output_type": "execute_result"
    }
   ],
   "source": [
    "# Your answer here \n",
    "list = [19, 18, 21, 16, 15, 17, 20, 18]\n",
    "def calculate_mean(values):\n",
    "    sum = 0\n",
    "    for value in values:\n",
    "        sum = sum + value\n",
    "    return sum/len(values)\n",
    "calculate_mean(list)"
   ]
  },
  {
   "cell_type": "markdown",
   "metadata": {},
   "source": [
    "### Exercise 2\n",
    "\n",
    "Calculate the mean, median and mode for given distribution and state which of these measures does not describe the \"middle\" of this data set? and why ?\n",
    "```\n",
    "100, 99, 97, 97, 96, 98, 95, 72\n",
    "```"
   ]
  },
  {
   "cell_type": "code",
   "execution_count": 7,
   "metadata": {},
   "outputs": [
    {
     "name": "stdout",
     "output_type": "stream",
     "text": [
      "mean is: 94.25\n",
      "median is: 96.5\n",
      "mode is: 97\n",
      "Mode does not describe the middle of a list of values. It is simply the most commonly ocurring value.\n"
     ]
    }
   ],
   "source": [
    "# Your answer here \n",
    "import statistics\n",
    "\n",
    "list2 = [100, 99, 97, 97, 96, 98, 95, 72]\n",
    "\n",
    "def calculate_median (values):\n",
    "    if len(values) %2 == 0:  #case where length of list ie even\n",
    "        position_one = (len(values) // 2) - 1\n",
    "        position_two = position_one + 1\n",
    "        median = (values[position_one] + values[position_two]) / 2\n",
    "    else:\n",
    "        median = values[(len(values)//2)]  #case where length of list is odd\n",
    "    return median\n",
    "\n",
    "def calculate_mode (values):\n",
    "    if values:\n",
    "        return statistics.mode(values)\n",
    "    else:\n",
    "        return \"List is empty!\"\n",
    "    \n",
    "\n",
    "mean = calculate_mean(list2)\n",
    "median = calculate_median(list2)\n",
    "mode = calculate_mode(list2)\n",
    "print(\"mean is: \" + str(mean))\n",
    "print(\"median is: \" + str(median))\n",
    "print(\"mode is: \" + str(mode))\n",
    "print(\"Mode does not describe the middle of a list of values. It is simply the most commonly ocurring value.\")"
   ]
  },
  {
   "cell_type": "markdown",
   "metadata": {},
   "source": [
    "### Exercise 3\n",
    "On the first three days of his bookshop opening, Joe sold 15, 18, and 16 books (He initially hoped that he would sell 17 books every day).  How many books does he need to sell on the next day to have a mean sale of 17?"
   ]
  },
  {
   "cell_type": "code",
   "execution_count": 8,
   "metadata": {},
   "outputs": [],
   "source": [
    "# Your answer here \n",
    "# Four days at an average of 17 books per day would be a total of 68 books. (4 x 17)\n",
    "# The total after day 3 is 49  (15 + 18 + 16)\n",
    "# Joe needs to sell 19 books on day four to have mean daily sales of 17 books. (68 - 49 = 19)"
   ]
  },
  {
   "cell_type": "markdown",
   "metadata": {},
   "source": [
    "### Exercise 4\n",
    "The histograms show the amount of time (hours per day) spent on Facebook by 46 middle school girls and 40 middle school boys from a school in San Francisco. A total of 50 boys and 50 girls took the survey, 4 girls and 10 boys did not use Facebook at all. \n",
    "Each is graphed with a bin width of 0.25 hours.\n",
    "\n",
    "![](boys.png)\n",
    "![](girls.png)\n",
    "\n",
    "Looking at these histograms, answer following questions. \n",
    "\n",
    "*Hint: For most parts, you will have to figure out the location of required bins and count the frequencies. *\n",
    "\n",
    "#### How many boys spend more than 1.5 hours/day on Facebook?\n"
   ]
  },
  {
   "cell_type": "code",
   "execution_count": 9,
   "metadata": {},
   "outputs": [],
   "source": [
    "# Your answer here \n",
    "# 8"
   ]
  },
  {
   "cell_type": "markdown",
   "metadata": {},
   "source": [
    "#### Compare the percentage of boys and girls that spend more than zero but less than 1 hour/day on Facebook."
   ]
  },
  {
   "cell_type": "code",
   "execution_count": 10,
   "metadata": {},
   "outputs": [],
   "source": [
    "# Your answer here \n",
    "# BOYS:\n",
    "# 50 total  (40 use FB)\n",
    "# 10 did not use FB at all\n",
    "# 1 - .25 hrs\n",
    "# 6 - .5 hrs\n",
    "# 9 - .75 hrs\n",
    "# \n",
    "# (1 + 6 + 9) / 40 = 0.4\n",
    "# 40% of boys use Facebook for more than zero but less than 1 hour/day.\n",
    "\n",
    "# GIRLS:\n",
    "# 50 total  (46 use FB)\n",
    "# 4 did not use FB at all\n",
    "# 1 - .25 hrs\n",
    "# 4 - .5 hrs\n",
    "# 3 - .75 hrs\n",
    "# \n",
    "# (1 + 4 + 3) / 46 = 0.1740\n",
    "# 17.40% of girls use Facebook for more than zero but less than 1 hour/day.\n"
   ]
  },
  {
   "cell_type": "markdown",
   "metadata": {},
   "source": [
    "#### Find the bin where the median of the boys' data set lies."
   ]
  },
  {
   "cell_type": "code",
   "execution_count": 11,
   "metadata": {},
   "outputs": [],
   "source": [
    "# Your answer here\n",
    "# Boys median:\n",
    "# Because there are 40 boys in the histogram, the median would be the average of the 20th & 21st sorted value.\n",
    "# The 20th value would fall in the 1.0 bin, the 21st value would fall in the 1.25 bin.\n",
    "# The median would be 1.125"
   ]
  },
  {
   "cell_type": "markdown",
   "metadata": {},
   "source": [
    "#### In terms of Facebook usage times based on given data, what can you conclude about usage habits of boys and girls?"
   ]
  },
  {
   "cell_type": "code",
   "execution_count": 12,
   "metadata": {},
   "outputs": [],
   "source": [
    "# Your answer here \n",
    "# The boys distribution is positively skewed \n",
    "# The girls distribution is possibly bi-modal and possibly negative skewed.\n",
    "# In this sample, the girls tended to spend more time on Facebook than the boys.\n"
   ]
  }
 ],
 "metadata": {
  "kernelspec": {
   "display_name": "Python 3",
   "language": "python",
   "name": "python3"
  },
  "language_info": {
   "codemirror_mode": {
    "name": "ipython",
    "version": 3
   },
   "file_extension": ".py",
   "mimetype": "text/x-python",
   "name": "python",
   "nbconvert_exporter": "python",
   "pygments_lexer": "ipython3",
   "version": "3.6.4"
  }
 },
 "nbformat": 4,
 "nbformat_minor": 2
}
